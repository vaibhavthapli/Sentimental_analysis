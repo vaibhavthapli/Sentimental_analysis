{
 "cells": [
  {
   "cell_type": "code",
   "execution_count": 1,
   "id": "stuffed-presentation",
   "metadata": {},
   "outputs": [],
   "source": [
    "import tensorflow as tf\n",
    "import keras\n",
    "import pandas as pd\n",
    "import seaborn as sns\n",
    "import matplotlib.pyplot as plt"
   ]
  },
  {
   "cell_type": "markdown",
   "id": "legislative-candle",
   "metadata": {},
   "source": [
    "# Read data and Basic info about data"
   ]
  },
  {
   "cell_type": "code",
   "execution_count": 2,
   "id": "knowing-shakespeare",
   "metadata": {},
   "outputs": [
    {
     "data": {
      "text/html": [
       "<div>\n",
       "<style scoped>\n",
       "    .dataframe tbody tr th:only-of-type {\n",
       "        vertical-align: middle;\n",
       "    }\n",
       "\n",
       "    .dataframe tbody tr th {\n",
       "        vertical-align: top;\n",
       "    }\n",
       "\n",
       "    .dataframe thead th {\n",
       "        text-align: right;\n",
       "    }\n",
       "</style>\n",
       "<table border=\"1\" class=\"dataframe\">\n",
       "  <thead>\n",
       "    <tr style=\"text-align: right;\">\n",
       "      <th></th>\n",
       "      <th>review</th>\n",
       "      <th>sentiment</th>\n",
       "    </tr>\n",
       "  </thead>\n",
       "  <tbody>\n",
       "    <tr>\n",
       "      <th>0</th>\n",
       "      <td>One of the other reviewers has mentioned that ...</td>\n",
       "      <td>positive</td>\n",
       "    </tr>\n",
       "    <tr>\n",
       "      <th>1</th>\n",
       "      <td>A wonderful little production. &lt;br /&gt;&lt;br /&gt;The...</td>\n",
       "      <td>positive</td>\n",
       "    </tr>\n",
       "    <tr>\n",
       "      <th>2</th>\n",
       "      <td>I thought this was a wonderful way to spend ti...</td>\n",
       "      <td>positive</td>\n",
       "    </tr>\n",
       "    <tr>\n",
       "      <th>3</th>\n",
       "      <td>Basically there's a family where a little boy ...</td>\n",
       "      <td>negative</td>\n",
       "    </tr>\n",
       "    <tr>\n",
       "      <th>4</th>\n",
       "      <td>Petter Mattei's \"Love in the Time of Money\" is...</td>\n",
       "      <td>positive</td>\n",
       "    </tr>\n",
       "  </tbody>\n",
       "</table>\n",
       "</div>"
      ],
      "text/plain": [
       "                                              review sentiment\n",
       "0  One of the other reviewers has mentioned that ...  positive\n",
       "1  A wonderful little production. <br /><br />The...  positive\n",
       "2  I thought this was a wonderful way to spend ti...  positive\n",
       "3  Basically there's a family where a little boy ...  negative\n",
       "4  Petter Mattei's \"Love in the Time of Money\" is...  positive"
      ]
     },
     "execution_count": 2,
     "metadata": {},
     "output_type": "execute_result"
    }
   ],
   "source": [
    "df = pd.read_csv(\"IMDB Dataset.csv\")\n",
    "df.head()"
   ]
  },
  {
   "cell_type": "code",
   "execution_count": 3,
   "id": "official-female",
   "metadata": {},
   "outputs": [
    {
     "data": {
      "text/plain": [
       "(50000, 2)"
      ]
     },
     "execution_count": 3,
     "metadata": {},
     "output_type": "execute_result"
    }
   ],
   "source": [
    "df.shape"
   ]
  },
  {
   "cell_type": "code",
   "execution_count": 4,
   "id": "natural-father",
   "metadata": {},
   "outputs": [
    {
     "data": {
      "text/plain": [
       "Index(['review', 'sentiment'], dtype='object')"
      ]
     },
     "execution_count": 4,
     "metadata": {},
     "output_type": "execute_result"
    }
   ],
   "source": [
    "df.columns"
   ]
  },
  {
   "cell_type": "code",
   "execution_count": 5,
   "id": "muslim-prayer",
   "metadata": {},
   "outputs": [
    {
     "name": "stdout",
     "output_type": "stream",
     "text": [
      "<class 'pandas.core.frame.DataFrame'>\n",
      "RangeIndex: 50000 entries, 0 to 49999\n",
      "Data columns (total 2 columns):\n",
      " #   Column     Non-Null Count  Dtype \n",
      "---  ------     --------------  ----- \n",
      " 0   review     50000 non-null  object\n",
      " 1   sentiment  50000 non-null  object\n",
      "dtypes: object(2)\n",
      "memory usage: 781.4+ KB\n"
     ]
    }
   ],
   "source": [
    "df.info()"
   ]
  },
  {
   "cell_type": "code",
   "execution_count": 6,
   "id": "detailed-behavior",
   "metadata": {},
   "outputs": [
    {
     "data": {
      "text/html": [
       "<div>\n",
       "<style scoped>\n",
       "    .dataframe tbody tr th:only-of-type {\n",
       "        vertical-align: middle;\n",
       "    }\n",
       "\n",
       "    .dataframe tbody tr th {\n",
       "        vertical-align: top;\n",
       "    }\n",
       "\n",
       "    .dataframe thead th {\n",
       "        text-align: right;\n",
       "    }\n",
       "</style>\n",
       "<table border=\"1\" class=\"dataframe\">\n",
       "  <thead>\n",
       "    <tr style=\"text-align: right;\">\n",
       "      <th></th>\n",
       "      <th>review</th>\n",
       "      <th>sentiment</th>\n",
       "    </tr>\n",
       "  </thead>\n",
       "  <tbody>\n",
       "    <tr>\n",
       "      <th>count</th>\n",
       "      <td>50000</td>\n",
       "      <td>50000</td>\n",
       "    </tr>\n",
       "    <tr>\n",
       "      <th>unique</th>\n",
       "      <td>49582</td>\n",
       "      <td>2</td>\n",
       "    </tr>\n",
       "    <tr>\n",
       "      <th>top</th>\n",
       "      <td>Loved today's show!!! It was a variety and not...</td>\n",
       "      <td>positive</td>\n",
       "    </tr>\n",
       "    <tr>\n",
       "      <th>freq</th>\n",
       "      <td>5</td>\n",
       "      <td>25000</td>\n",
       "    </tr>\n",
       "  </tbody>\n",
       "</table>\n",
       "</div>"
      ],
      "text/plain": [
       "                                                   review sentiment\n",
       "count                                               50000     50000\n",
       "unique                                              49582         2\n",
       "top     Loved today's show!!! It was a variety and not...  positive\n",
       "freq                                                    5     25000"
      ]
     },
     "execution_count": 6,
     "metadata": {},
     "output_type": "execute_result"
    }
   ],
   "source": [
    "df.describe()"
   ]
  },
  {
   "cell_type": "markdown",
   "id": "dressed-bearing",
   "metadata": {},
   "source": [
    "there are some duplicates values, that we remove later."
   ]
  },
  {
   "cell_type": "code",
   "execution_count": 7,
   "id": "accepting-professor",
   "metadata": {},
   "outputs": [
    {
     "data": {
      "text/plain": [
       "array(['positive', 'negative'], dtype=object)"
      ]
     },
     "execution_count": 7,
     "metadata": {},
     "output_type": "execute_result"
    }
   ],
   "source": [
    "df.sentiment.unique()"
   ]
  },
  {
   "cell_type": "markdown",
   "id": "electric-future",
   "metadata": {},
   "source": [
    "# Visualization"
   ]
  },
  {
   "cell_type": "code",
   "execution_count": 8,
   "id": "accepted-assessment",
   "metadata": {},
   "outputs": [
    {
     "name": "stderr",
     "output_type": "stream",
     "text": [
      "C:\\Users\\vaibh\\miniconda3\\envs\\Ai\\lib\\site-packages\\seaborn\\_decorators.py:43: FutureWarning: Pass the following variable as a keyword arg: x. From version 0.12, the only valid positional argument will be `data`, and passing other arguments without an explicit keyword will result in an error or misinterpretation.\n",
      "  FutureWarning\n"
     ]
    },
    {
     "data": {
      "image/png": "[encoded data removed]",
      "text/plain": [
       "<Figure size 432x288 with 1 Axes>"
      ]
     },
     "metadata": {
      "needs_background": "light"
     },
     "output_type": "display_data"
    },
    {
     "name": "stdout",
     "output_type": "stream",
     "text": [
      "positive    25000\n",
      "negative    25000\n",
      "Name: sentiment, dtype: int64\n"
     ]
    }
   ],
   "source": [
    "sns.countplot(df.sentiment, palette = [\"green\", \"red\"])\n",
    "plt.show()\n",
    "print(df.sentiment.value_counts())"
   ]
  },
  {
   "cell_type": "markdown",
   "id": "coordinated-charity",
   "metadata": {},
   "source": [
    "# convert out label data in to integer\n",
    "\n",
    "positive - 1<br>\n",
    "negative - 0"
   ]
  },
  {
   "cell_type": "code",
   "execution_count": 9,
   "id": "mexican-gnome",
   "metadata": {},
   "outputs": [],
   "source": [
    "df.sentiment = [1 if each ==\"positive\" else 0 for each in df.sentiment]"
   ]
  },
  {
   "cell_type": "code",
   "execution_count": 10,
   "id": "handled-intellectual",
   "metadata": {},
   "outputs": [
    {
     "data": {
      "text/html": [
       "<div>\n",
       "<style scoped>\n",
       "    .dataframe tbody tr th:only-of-type {\n",
       "        vertical-align: middle;\n",
       "    }\n",
       "\n",
       "    .dataframe tbody tr th {\n",
       "        vertical-align: top;\n",
       "    }\n",
       "\n",
       "    .dataframe thead th {\n",
       "        text-align: right;\n",
       "    }\n",
       "</style>\n",
       "<table border=\"1\" class=\"dataframe\">\n",
       "  <thead>\n",
       "    <tr style=\"text-align: right;\">\n",
       "      <th></th>\n",
       "      <th>review</th>\n",
       "      <th>sentiment</th>\n",
       "    </tr>\n",
       "  </thead>\n",
       "  <tbody>\n",
       "    <tr>\n",
       "      <th>0</th>\n",
       "      <td>One of the other reviewers has mentioned that ...</td>\n",
       "      <td>1</td>\n",
       "    </tr>\n",
       "    <tr>\n",
       "      <th>1</th>\n",
       "      <td>A wonderful little production. &lt;br /&gt;&lt;br /&gt;The...</td>\n",
       "      <td>1</td>\n",
       "    </tr>\n",
       "    <tr>\n",
       "      <th>2</th>\n",
       "      <td>I thought this was a wonderful way to spend ti...</td>\n",
       "      <td>1</td>\n",
       "    </tr>\n",
       "    <tr>\n",
       "      <th>3</th>\n",
       "      <td>Basically there's a family where a little boy ...</td>\n",
       "      <td>0</td>\n",
       "    </tr>\n",
       "    <tr>\n",
       "      <th>4</th>\n",
       "      <td>Petter Mattei's \"Love in the Time of Money\" is...</td>\n",
       "      <td>1</td>\n",
       "    </tr>\n",
       "  </tbody>\n",
       "</table>\n",
       "</div>"
      ],
      "text/plain": [
       "                                              review  sentiment\n",
       "0  One of the other reviewers has mentioned that ...          1\n",
       "1  A wonderful little production. <br /><br />The...          1\n",
       "2  I thought this was a wonderful way to spend ti...          1\n",
       "3  Basically there's a family where a little boy ...          0\n",
       "4  Petter Mattei's \"Love in the Time of Money\" is...          1"
      ]
     },
     "execution_count": 10,
     "metadata": {},
     "output_type": "execute_result"
    }
   ],
   "source": [
    "df.head()"
   ]
  },
  {
   "cell_type": "markdown",
   "id": "christian-macro",
   "metadata": {},
   "source": [
    "# Drop duplicates"
   ]
  },
  {
   "cell_type": "code",
   "execution_count": 11,
   "id": "careful-malta",
   "metadata": {},
   "outputs": [],
   "source": [
    "df = df.drop_duplicates()"
   ]
  },
  {
   "cell_type": "code",
   "execution_count": 12,
   "id": "hearing-general",
   "metadata": {},
   "outputs": [
    {
     "data": {
      "text/plain": [
       "(49582, 2)"
      ]
     },
     "execution_count": 12,
     "metadata": {},
     "output_type": "execute_result"
    }
   ],
   "source": [
    "df.shape"
   ]
  },
  {
   "cell_type": "code",
   "execution_count": 13,
   "id": "adverse-nickel",
   "metadata": {},
   "outputs": [
    {
     "data": {
      "text/plain": [
       "1    24884\n",
       "0    24698\n",
       "Name: sentiment, dtype: int64"
      ]
     },
     "execution_count": 13,
     "metadata": {},
     "output_type": "execute_result"
    }
   ],
   "source": [
    "df.sentiment.value_counts()"
   ]
  },
  {
   "cell_type": "markdown",
   "id": "social-desire",
   "metadata": {},
   "source": [
    "For randomness we have to shuffle our data"
   ]
  },
  {
   "cell_type": "code",
   "execution_count": 14,
   "id": "opposed-municipality",
   "metadata": {},
   "outputs": [],
   "source": [
    "from sklearn.utils import shuffle\n",
    "df = shuffle(df)"
   ]
  },
  {
   "cell_type": "code",
   "execution_count": 15,
   "id": "polished-office",
   "metadata": {},
   "outputs": [
    {
     "data": {
      "text/html": [
       "<div>\n",
       "<style scoped>\n",
       "    .dataframe tbody tr th:only-of-type {\n",
       "        vertical-align: middle;\n",
       "    }\n",
       "\n",
       "    .dataframe tbody tr th {\n",
       "        vertical-align: top;\n",
       "    }\n",
       "\n",
       "    .dataframe thead th {\n",
       "        text-align: right;\n",
       "    }\n",
       "</style>\n",
       "<table border=\"1\" class=\"dataframe\">\n",
       "  <thead>\n",
       "    <tr style=\"text-align: right;\">\n",
       "      <th></th>\n",
       "      <th>review</th>\n",
       "      <th>sentiment</th>\n",
       "    </tr>\n",
       "  </thead>\n",
       "  <tbody>\n",
       "    <tr>\n",
       "      <th>8698</th>\n",
       "      <td>Summer Holiday is the forgotten musical versio...</td>\n",
       "      <td>0</td>\n",
       "    </tr>\n",
       "    <tr>\n",
       "      <th>20504</th>\n",
       "      <td>I must say I didn't expect much about this mov...</td>\n",
       "      <td>1</td>\n",
       "    </tr>\n",
       "    <tr>\n",
       "      <th>10391</th>\n",
       "      <td>Like so many other reviewers on here, my memor...</td>\n",
       "      <td>1</td>\n",
       "    </tr>\n",
       "    <tr>\n",
       "      <th>30218</th>\n",
       "      <td>This movie sucked. The acting sucked, the scri...</td>\n",
       "      <td>0</td>\n",
       "    </tr>\n",
       "    <tr>\n",
       "      <th>44384</th>\n",
       "      <td>This light hearted comedy should be enjoyed fo...</td>\n",
       "      <td>1</td>\n",
       "    </tr>\n",
       "  </tbody>\n",
       "</table>\n",
       "</div>"
      ],
      "text/plain": [
       "                                                  review  sentiment\n",
       "8698   Summer Holiday is the forgotten musical versio...          0\n",
       "20504  I must say I didn't expect much about this mov...          1\n",
       "10391  Like so many other reviewers on here, my memor...          1\n",
       "30218  This movie sucked. The acting sucked, the scri...          0\n",
       "44384  This light hearted comedy should be enjoyed fo...          1"
      ]
     },
     "execution_count": 15,
     "metadata": {},
     "output_type": "execute_result"
    }
   ],
   "source": [
    "df.head()"
   ]
  },
  {
   "cell_type": "code",
   "execution_count": 16,
   "id": "painted-photographer",
   "metadata": {},
   "outputs": [
    {
     "data": {
      "text/html": [
       "<div>\n",
       "<style scoped>\n",
       "    .dataframe tbody tr th:only-of-type {\n",
       "        vertical-align: middle;\n",
       "    }\n",
       "\n",
       "    .dataframe tbody tr th {\n",
       "        vertical-align: top;\n",
       "    }\n",
       "\n",
       "    .dataframe thead th {\n",
       "        text-align: right;\n",
       "    }\n",
       "</style>\n",
       "<table border=\"1\" class=\"dataframe\">\n",
       "  <thead>\n",
       "    <tr style=\"text-align: right;\">\n",
       "      <th></th>\n",
       "      <th>review</th>\n",
       "      <th>sentiment</th>\n",
       "    </tr>\n",
       "  </thead>\n",
       "  <tbody>\n",
       "    <tr>\n",
       "      <th>8698</th>\n",
       "      <td>Summer Holiday is the forgotten musical versio...</td>\n",
       "      <td>0</td>\n",
       "    </tr>\n",
       "    <tr>\n",
       "      <th>20504</th>\n",
       "      <td>I must say I didn't expect much about this mov...</td>\n",
       "      <td>1</td>\n",
       "    </tr>\n",
       "    <tr>\n",
       "      <th>10391</th>\n",
       "      <td>Like so many other reviewers on here, my memor...</td>\n",
       "      <td>1</td>\n",
       "    </tr>\n",
       "    <tr>\n",
       "      <th>30218</th>\n",
       "      <td>This movie sucked. The acting sucked, the scri...</td>\n",
       "      <td>0</td>\n",
       "    </tr>\n",
       "    <tr>\n",
       "      <th>44384</th>\n",
       "      <td>This light hearted comedy should be enjoyed fo...</td>\n",
       "      <td>1</td>\n",
       "    </tr>\n",
       "    <tr>\n",
       "      <th>...</th>\n",
       "      <td>...</td>\n",
       "      <td>...</td>\n",
       "    </tr>\n",
       "    <tr>\n",
       "      <th>1703</th>\n",
       "      <td>There was some good build up of suspense throu...</td>\n",
       "      <td>0</td>\n",
       "    </tr>\n",
       "    <tr>\n",
       "      <th>36851</th>\n",
       "      <td>As said before, the visual effects are stunnin...</td>\n",
       "      <td>0</td>\n",
       "    </tr>\n",
       "    <tr>\n",
       "      <th>47481</th>\n",
       "      <td>This was such a waste of time. Danger: If you ...</td>\n",
       "      <td>0</td>\n",
       "    </tr>\n",
       "    <tr>\n",
       "      <th>42634</th>\n",
       "      <td>This movie is told through the eyes of a young...</td>\n",
       "      <td>0</td>\n",
       "    </tr>\n",
       "    <tr>\n",
       "      <th>27518</th>\n",
       "      <td>If you like the standard Sly flicks that invol...</td>\n",
       "      <td>0</td>\n",
       "    </tr>\n",
       "  </tbody>\n",
       "</table>\n",
       "<p>49582 rows × 2 columns</p>\n",
       "</div>"
      ],
      "text/plain": [
       "                                                  review  sentiment\n",
       "8698   Summer Holiday is the forgotten musical versio...          0\n",
       "20504  I must say I didn't expect much about this mov...          1\n",
       "10391  Like so many other reviewers on here, my memor...          1\n",
       "30218  This movie sucked. The acting sucked, the scri...          0\n",
       "44384  This light hearted comedy should be enjoyed fo...          1\n",
       "...                                                  ...        ...\n",
       "1703   There was some good build up of suspense throu...          0\n",
       "36851  As said before, the visual effects are stunnin...          0\n",
       "47481  This was such a waste of time. Danger: If you ...          0\n",
       "42634  This movie is told through the eyes of a young...          0\n",
       "27518  If you like the standard Sly flicks that invol...          0\n",
       "\n",
       "[49582 rows x 2 columns]"
      ]
     },
     "execution_count": 16,
     "metadata": {},
     "output_type": "execute_result"
    }
   ],
   "source": [
    "messages=df.copy()\n",
    "messages"
   ]
  },
  {
   "cell_type": "code",
   "execution_count": 17,
   "id": "military-corruption",
   "metadata": {},
   "outputs": [],
   "source": [
    "messages.reset_index(inplace=True)"
   ]
  },
  {
   "cell_type": "code",
   "execution_count": 18,
   "id": "elder-fountain",
   "metadata": {},
   "outputs": [
    {
     "data": {
      "text/html": [
       "<div>\n",
       "<style scoped>\n",
       "    .dataframe tbody tr th:only-of-type {\n",
       "        vertical-align: middle;\n",
       "    }\n",
       "\n",
       "    .dataframe tbody tr th {\n",
       "        vertical-align: top;\n",
       "    }\n",
       "\n",
       "    .dataframe thead th {\n",
       "        text-align: right;\n",
       "    }\n",
       "</style>\n",
       "<table border=\"1\" class=\"dataframe\">\n",
       "  <thead>\n",
       "    <tr style=\"text-align: right;\">\n",
       "      <th></th>\n",
       "      <th>index</th>\n",
       "      <th>review</th>\n",
       "      <th>sentiment</th>\n",
       "    </tr>\n",
       "  </thead>\n",
       "  <tbody>\n",
       "    <tr>\n",
       "      <th>0</th>\n",
       "      <td>8698</td>\n",
       "      <td>Summer Holiday is the forgotten musical versio...</td>\n",
       "      <td>0</td>\n",
       "    </tr>\n",
       "    <tr>\n",
       "      <th>1</th>\n",
       "      <td>20504</td>\n",
       "      <td>I must say I didn't expect much about this mov...</td>\n",
       "      <td>1</td>\n",
       "    </tr>\n",
       "    <tr>\n",
       "      <th>2</th>\n",
       "      <td>10391</td>\n",
       "      <td>Like so many other reviewers on here, my memor...</td>\n",
       "      <td>1</td>\n",
       "    </tr>\n",
       "    <tr>\n",
       "      <th>3</th>\n",
       "      <td>30218</td>\n",
       "      <td>This movie sucked. The acting sucked, the scri...</td>\n",
       "      <td>0</td>\n",
       "    </tr>\n",
       "    <tr>\n",
       "      <th>4</th>\n",
       "      <td>44384</td>\n",
       "      <td>This light hearted comedy should be enjoyed fo...</td>\n",
       "      <td>1</td>\n",
       "    </tr>\n",
       "    <tr>\n",
       "      <th>...</th>\n",
       "      <td>...</td>\n",
       "      <td>...</td>\n",
       "      <td>...</td>\n",
       "    </tr>\n",
       "    <tr>\n",
       "      <th>49577</th>\n",
       "      <td>1703</td>\n",
       "      <td>There was some good build up of suspense throu...</td>\n",
       "      <td>0</td>\n",
       "    </tr>\n",
       "    <tr>\n",
       "      <th>49578</th>\n",
       "      <td>36851</td>\n",
       "      <td>As said before, the visual effects are stunnin...</td>\n",
       "      <td>0</td>\n",
       "    </tr>\n",
       "    <tr>\n",
       "      <th>49579</th>\n",
       "      <td>47481</td>\n",
       "      <td>This was such a waste of time. Danger: If you ...</td>\n",
       "      <td>0</td>\n",
       "    </tr>\n",
       "    <tr>\n",
       "      <th>49580</th>\n",
       "      <td>42634</td>\n",
       "      <td>This movie is told through the eyes of a young...</td>\n",
       "      <td>0</td>\n",
       "    </tr>\n",
       "    <tr>\n",
       "      <th>49581</th>\n",
       "      <td>27518</td>\n",
       "      <td>If you like the standard Sly flicks that invol...</td>\n",
       "      <td>0</td>\n",
       "    </tr>\n",
       "  </tbody>\n",
       "</table>\n",
       "<p>49582 rows × 3 columns</p>\n",
       "</div>"
      ],
      "text/plain": [
       "       index                                             review  sentiment\n",
       "0       8698  Summer Holiday is the forgotten musical versio...          0\n",
       "1      20504  I must say I didn't expect much about this mov...          1\n",
       "2      10391  Like so many other reviewers on here, my memor...          1\n",
       "3      30218  This movie sucked. The acting sucked, the scri...          0\n",
       "4      44384  This light hearted comedy should be enjoyed fo...          1\n",
       "...      ...                                                ...        ...\n",
       "49577   1703  There was some good build up of suspense throu...          0\n",
       "49578  36851  As said before, the visual effects are stunnin...          0\n",
       "49579  47481  This was such a waste of time. Danger: If you ...          0\n",
       "49580  42634  This movie is told through the eyes of a young...          0\n",
       "49581  27518  If you like the standard Sly flicks that invol...          0\n",
       "\n",
       "[49582 rows x 3 columns]"
      ]
     },
     "execution_count": 18,
     "metadata": {},
     "output_type": "execute_result"
    }
   ],
   "source": [
    "messages"
   ]
  },
  {
   "cell_type": "code",
   "execution_count": 19,
   "id": "behavioral-ballot",
   "metadata": {},
   "outputs": [
    {
     "data": {
      "text/plain": [
       "\"Summer Holiday is the forgotten musical version of Eugene O'Neill's Ah Wilderness and deservedly so with the Broadway musical adaptation of Take Me Along. With the exception of the Stanley Steamer song, none of the other Harry Warren-Ralph Blane songs are worth remembering and even that one is questionable. <br /><br />It was right after the release of this film that MGM let Mickey Rooney go and I don't think it was a coincidence. The film was made in 1946 and released in 1948, so Mickey was 26 playing an Andy Hardy like teenager. He was just way too old for the part of the 17 year old who was affecting radical ideas in a spirit of youthful rebellion.<br /><br />Rooney made four films for MGM from 1946 to 1948, this one, Killer McCoy a remake of Robert Taylor's A Crowd Roars, Love Laughs at Andy Hardy and Words and Music. In all of them Rooney was playing an adult part. Even in the Andy Hardy film, Mickey played an adult Andy Hardy returned from World War II. Why he was in this Louis B. Mayer only knows. <br /><br />Rooney's bad casting makes Summer Holiday all the worse because in the original Ah Wilderness the emphasis is on the father's character played here by Walter Huston. And in the Broadway show Take Me Along which won a Tony Award for Jackie Gleason, the Great One played the inebriated brother-in-law Uncle Sid here played by Frank Morgan and that's the central character.<br /><br />Gloria DeHaven steps in for Judy Garland as Rooney's sweet and adorable girl friend and Marilyn Maxwell plays the show girl who gives Rooney an adult education. In the original play O'Neill has her as a prostitute, but this was the Hollywood of the Code so all Marilyn does is get young Rooney soused.<br /><br />A lot of really talented people had a hand in this one and they do their best, but Summer Holiday fades rather quickly into a chilly autumn.\""
      ]
     },
     "execution_count": 19,
     "metadata": {},
     "output_type": "execute_result"
    }
   ],
   "source": [
    "messages.review[0]"
   ]
  },
  {
   "cell_type": "code",
   "execution_count": 20,
   "id": "vanilla-husband",
   "metadata": {},
   "outputs": [
    {
     "data": {
      "text/plain": [
       "49582"
      ]
     },
     "execution_count": 20,
     "metadata": {},
     "output_type": "execute_result"
    }
   ],
   "source": [
    "len(messages)"
   ]
  },
  {
   "cell_type": "markdown",
   "id": "domestic-frost",
   "metadata": {},
   "source": [
    "# Text Processing\n",
    "\n",
    "**Cleaning the data**, **Tokenizing the cleaninig data**"
   ]
  },
  {
   "cell_type": "code",
   "execution_count": 21,
   "id": "ancient-adaptation",
   "metadata": {},
   "outputs": [],
   "source": [
    "import string\n",
    "import re\n",
    "import nltk\n",
    "from nltk.corpus import stopwords\n",
    "wn = nltk.WordNetLemmatizer()\n",
    "stopwords = nltk.corpus.stopwords.words('english')\n",
    "def clean_text(txt):\n",
    "    stripped = re.sub(r\"<br />\",' ',txt)\n",
    "    text = re.sub(r'\\d+', '', stripped)#remove numbers\n",
    "    txt = \"\".join([c for c in text if c not in string.punctuation]) #remove punctuation\n",
    "    tokens = nltk.word_tokenize(txt)# tokenizer\n",
    "    text =  ([wn.lemmatize(word) for word in tokens if word not in stopwords]) #remove stopwords, #lemmatization\n",
    "    return text \n",
    "messages[\"tok\"] = messages[\"review\"].apply(lambda x: clean_text(x.lower())) #lower\n"
   ]
  },
  {
   "cell_type": "code",
   "execution_count": 22,
   "id": "protecting-technique",
   "metadata": {},
   "outputs": [
    {
     "data": {
      "text/html": [
       "<div>\n",
       "<style scoped>\n",
       "    .dataframe tbody tr th:only-of-type {\n",
       "        vertical-align: middle;\n",
       "    }\n",
       "\n",
       "    .dataframe tbody tr th {\n",
       "        vertical-align: top;\n",
       "    }\n",
       "\n",
       "    .dataframe thead th {\n",
       "        text-align: right;\n",
       "    }\n",
       "</style>\n",
       "<table border=\"1\" class=\"dataframe\">\n",
       "  <thead>\n",
       "    <tr style=\"text-align: right;\">\n",
       "      <th></th>\n",
       "      <th>index</th>\n",
       "      <th>review</th>\n",
       "      <th>sentiment</th>\n",
       "      <th>tok</th>\n",
       "    </tr>\n",
       "  </thead>\n",
       "  <tbody>\n",
       "    <tr>\n",
       "      <th>0</th>\n",
       "      <td>8698</td>\n",
       "      <td>Summer Holiday is the forgotten musical versio...</td>\n",
       "      <td>0</td>\n",
       "      <td>[summer, holiday, forgotten, musical, version,...</td>\n",
       "    </tr>\n",
       "    <tr>\n",
       "      <th>1</th>\n",
       "      <td>20504</td>\n",
       "      <td>I must say I didn't expect much about this mov...</td>\n",
       "      <td>1</td>\n",
       "      <td>[must, say, didnt, expect, much, movie, turned...</td>\n",
       "    </tr>\n",
       "    <tr>\n",
       "      <th>2</th>\n",
       "      <td>10391</td>\n",
       "      <td>Like so many other reviewers on here, my memor...</td>\n",
       "      <td>1</td>\n",
       "      <td>[like, many, reviewer, memory, show, universal...</td>\n",
       "    </tr>\n",
       "    <tr>\n",
       "      <th>3</th>\n",
       "      <td>30218</td>\n",
       "      <td>This movie sucked. The acting sucked, the scri...</td>\n",
       "      <td>0</td>\n",
       "      <td>[movie, sucked, acting, sucked, script, sucked...</td>\n",
       "    </tr>\n",
       "    <tr>\n",
       "      <th>4</th>\n",
       "      <td>44384</td>\n",
       "      <td>This light hearted comedy should be enjoyed fo...</td>\n",
       "      <td>1</td>\n",
       "      <td>[light, hearted, comedy, enjoyed, entertainmen...</td>\n",
       "    </tr>\n",
       "    <tr>\n",
       "      <th>...</th>\n",
       "      <td>...</td>\n",
       "      <td>...</td>\n",
       "      <td>...</td>\n",
       "      <td>...</td>\n",
       "    </tr>\n",
       "    <tr>\n",
       "      <th>49577</th>\n",
       "      <td>1703</td>\n",
       "      <td>There was some good build up of suspense throu...</td>\n",
       "      <td>0</td>\n",
       "      <td>[good, build, suspense, throughout, cinematogr...</td>\n",
       "    </tr>\n",
       "    <tr>\n",
       "      <th>49578</th>\n",
       "      <td>36851</td>\n",
       "      <td>As said before, the visual effects are stunnin...</td>\n",
       "      <td>0</td>\n",
       "      <td>[said, visual, effect, stunning, theyre, breat...</td>\n",
       "    </tr>\n",
       "    <tr>\n",
       "      <th>49579</th>\n",
       "      <td>47481</td>\n",
       "      <td>This was such a waste of time. Danger: If you ...</td>\n",
       "      <td>0</td>\n",
       "      <td>[waste, time, danger, watch, tempted, tear, dv...</td>\n",
       "    </tr>\n",
       "    <tr>\n",
       "      <th>49580</th>\n",
       "      <td>42634</td>\n",
       "      <td>This movie is told through the eyes of a young...</td>\n",
       "      <td>0</td>\n",
       "      <td>[movie, told, eye, young, teacher, catholic, s...</td>\n",
       "    </tr>\n",
       "    <tr>\n",
       "      <th>49581</th>\n",
       "      <td>27518</td>\n",
       "      <td>If you like the standard Sly flicks that invol...</td>\n",
       "      <td>0</td>\n",
       "      <td>[like, standard, sly, flick, involve, top, act...</td>\n",
       "    </tr>\n",
       "  </tbody>\n",
       "</table>\n",
       "<p>49582 rows × 4 columns</p>\n",
       "</div>"
      ],
      "text/plain": [
       "       index                                             review  sentiment  \\\n",
       "0       8698  Summer Holiday is the forgotten musical versio...          0   \n",
       "1      20504  I must say I didn't expect much about this mov...          1   \n",
       "2      10391  Like so many other reviewers on here, my memor...          1   \n",
       "3      30218  This movie sucked. The acting sucked, the scri...          0   \n",
       "4      44384  This light hearted comedy should be enjoyed fo...          1   \n",
       "...      ...                                                ...        ...   \n",
       "49577   1703  There was some good build up of suspense throu...          0   \n",
       "49578  36851  As said before, the visual effects are stunnin...          0   \n",
       "49579  47481  This was such a waste of time. Danger: If you ...          0   \n",
       "49580  42634  This movie is told through the eyes of a young...          0   \n",
       "49581  27518  If you like the standard Sly flicks that invol...          0   \n",
       "\n",
       "                                                     tok  \n",
       "0      [summer, holiday, forgotten, musical, version,...  \n",
       "1      [must, say, didnt, expect, much, movie, turned...  \n",
       "2      [like, many, reviewer, memory, show, universal...  \n",
       "3      [movie, sucked, acting, sucked, script, sucked...  \n",
       "4      [light, hearted, comedy, enjoyed, entertainmen...  \n",
       "...                                                  ...  \n",
       "49577  [good, build, suspense, throughout, cinematogr...  \n",
       "49578  [said, visual, effect, stunning, theyre, breat...  \n",
       "49579  [waste, time, danger, watch, tempted, tear, dv...  \n",
       "49580  [movie, told, eye, young, teacher, catholic, s...  \n",
       "49581  [like, standard, sly, flick, involve, top, act...  \n",
       "\n",
       "[49582 rows x 4 columns]"
      ]
     },
     "execution_count": 22,
     "metadata": {},
     "output_type": "execute_result"
    }
   ],
   "source": [
    "messages"
   ]
  },
  {
   "cell_type": "code",
   "execution_count": 23,
   "id": "criminal-responsibility",
   "metadata": {},
   "outputs": [],
   "source": [
    "\n",
    "#save our prepocessed data\n",
    "import pickle\n",
    "\n",
    "pickle_out = open(\"messages.pickle\",\"wb\")\n",
    "pickle.dump(messages,pickle_out)\n",
    "pickle_out.close()"
   ]
  },
  {
   "cell_type": "code",
   "execution_count": null,
   "id": "removed-dating",
   "metadata": {},
   "outputs": [],
   "source": []
  },
  {
   "cell_type": "code",
   "execution_count": null,
   "id": "damaged-margin",
   "metadata": {},
   "outputs": [],
   "source": []
  },
  {
   "cell_type": "code",
   "execution_count": 24,
   "id": "assisted-patio",
   "metadata": {},
   "outputs": [],
   "source": [
    "#load\n",
    "import pickle\n",
    "messages = pickle.load(open(\"messages.pickle\",\"rb\"))"
   ]
  },
  {
   "cell_type": "code",
   "execution_count": 25,
   "id": "twelve-parent",
   "metadata": {},
   "outputs": [
    {
     "data": {
      "text/html": [
       "<div>\n",
       "<style scoped>\n",
       "    .dataframe tbody tr th:only-of-type {\n",
       "        vertical-align: middle;\n",
       "    }\n",
       "\n",
       "    .dataframe tbody tr th {\n",
       "        vertical-align: top;\n",
       "    }\n",
       "\n",
       "    .dataframe thead th {\n",
       "        text-align: right;\n",
       "    }\n",
       "</style>\n",
       "<table border=\"1\" class=\"dataframe\">\n",
       "  <thead>\n",
       "    <tr style=\"text-align: right;\">\n",
       "      <th></th>\n",
       "      <th>index</th>\n",
       "      <th>review</th>\n",
       "      <th>sentiment</th>\n",
       "      <th>tok</th>\n",
       "    </tr>\n",
       "  </thead>\n",
       "  <tbody>\n",
       "    <tr>\n",
       "      <th>0</th>\n",
       "      <td>8698</td>\n",
       "      <td>Summer Holiday is the forgotten musical versio...</td>\n",
       "      <td>0</td>\n",
       "      <td>[summer, holiday, forgotten, musical, version,...</td>\n",
       "    </tr>\n",
       "    <tr>\n",
       "      <th>1</th>\n",
       "      <td>20504</td>\n",
       "      <td>I must say I didn't expect much about this mov...</td>\n",
       "      <td>1</td>\n",
       "      <td>[must, say, didnt, expect, much, movie, turned...</td>\n",
       "    </tr>\n",
       "    <tr>\n",
       "      <th>2</th>\n",
       "      <td>10391</td>\n",
       "      <td>Like so many other reviewers on here, my memor...</td>\n",
       "      <td>1</td>\n",
       "      <td>[like, many, reviewer, memory, show, universal...</td>\n",
       "    </tr>\n",
       "    <tr>\n",
       "      <th>3</th>\n",
       "      <td>30218</td>\n",
       "      <td>This movie sucked. The acting sucked, the scri...</td>\n",
       "      <td>0</td>\n",
       "      <td>[movie, sucked, acting, sucked, script, sucked...</td>\n",
       "    </tr>\n",
       "    <tr>\n",
       "      <th>4</th>\n",
       "      <td>44384</td>\n",
       "      <td>This light hearted comedy should be enjoyed fo...</td>\n",
       "      <td>1</td>\n",
       "      <td>[light, hearted, comedy, enjoyed, entertainmen...</td>\n",
       "    </tr>\n",
       "    <tr>\n",
       "      <th>...</th>\n",
       "      <td>...</td>\n",
       "      <td>...</td>\n",
       "      <td>...</td>\n",
       "      <td>...</td>\n",
       "    </tr>\n",
       "    <tr>\n",
       "      <th>49577</th>\n",
       "      <td>1703</td>\n",
       "      <td>There was some good build up of suspense throu...</td>\n",
       "      <td>0</td>\n",
       "      <td>[good, build, suspense, throughout, cinematogr...</td>\n",
       "    </tr>\n",
       "    <tr>\n",
       "      <th>49578</th>\n",
       "      <td>36851</td>\n",
       "      <td>As said before, the visual effects are stunnin...</td>\n",
       "      <td>0</td>\n",
       "      <td>[said, visual, effect, stunning, theyre, breat...</td>\n",
       "    </tr>\n",
       "    <tr>\n",
       "      <th>49579</th>\n",
       "      <td>47481</td>\n",
       "      <td>This was such a waste of time. Danger: If you ...</td>\n",
       "      <td>0</td>\n",
       "      <td>[waste, time, danger, watch, tempted, tear, dv...</td>\n",
       "    </tr>\n",
       "    <tr>\n",
       "      <th>49580</th>\n",
       "      <td>42634</td>\n",
       "      <td>This movie is told through the eyes of a young...</td>\n",
       "      <td>0</td>\n",
       "      <td>[movie, told, eye, young, teacher, catholic, s...</td>\n",
       "    </tr>\n",
       "    <tr>\n",
       "      <th>49581</th>\n",
       "      <td>27518</td>\n",
       "      <td>If you like the standard Sly flicks that invol...</td>\n",
       "      <td>0</td>\n",
       "      <td>[like, standard, sly, flick, involve, top, act...</td>\n",
       "    </tr>\n",
       "  </tbody>\n",
       "</table>\n",
       "<p>49582 rows × 4 columns</p>\n",
       "</div>"
      ],
      "text/plain": [
       "       index                                             review  sentiment  \\\n",
       "0       8698  Summer Holiday is the forgotten musical versio...          0   \n",
       "1      20504  I must say I didn't expect much about this mov...          1   \n",
       "2      10391  Like so many other reviewers on here, my memor...          1   \n",
       "3      30218  This movie sucked. The acting sucked, the scri...          0   \n",
       "4      44384  This light hearted comedy should be enjoyed fo...          1   \n",
       "...      ...                                                ...        ...   \n",
       "49577   1703  There was some good build up of suspense throu...          0   \n",
       "49578  36851  As said before, the visual effects are stunnin...          0   \n",
       "49579  47481  This was such a waste of time. Danger: If you ...          0   \n",
       "49580  42634  This movie is told through the eyes of a young...          0   \n",
       "49581  27518  If you like the standard Sly flicks that invol...          0   \n",
       "\n",
       "                                                     tok  \n",
       "0      [summer, holiday, forgotten, musical, version,...  \n",
       "1      [must, say, didnt, expect, much, movie, turned...  \n",
       "2      [like, many, reviewer, memory, show, universal...  \n",
       "3      [movie, sucked, acting, sucked, script, sucked...  \n",
       "4      [light, hearted, comedy, enjoyed, entertainmen...  \n",
       "...                                                  ...  \n",
       "49577  [good, build, suspense, throughout, cinematogr...  \n",
       "49578  [said, visual, effect, stunning, theyre, breat...  \n",
       "49579  [waste, time, danger, watch, tempted, tear, dv...  \n",
       "49580  [movie, told, eye, young, teacher, catholic, s...  \n",
       "49581  [like, standard, sly, flick, involve, top, act...  \n",
       "\n",
       "[49582 rows x 4 columns]"
      ]
     },
     "execution_count": 25,
     "metadata": {},
     "output_type": "execute_result"
    }
   ],
   "source": [
    "messages"
   ]
  },
  {
   "cell_type": "code",
   "execution_count": 26,
   "id": "buried-crime",
   "metadata": {},
   "outputs": [],
   "source": [
    "data = messages[[\"tok\", \"sentiment\"]]"
   ]
  },
  {
   "cell_type": "code",
   "execution_count": 27,
   "id": "signed-there",
   "metadata": {},
   "outputs": [
    {
     "data": {
      "text/html": [
       "<div>\n",
       "<style scoped>\n",
       "    .dataframe tbody tr th:only-of-type {\n",
       "        vertical-align: middle;\n",
       "    }\n",
       "\n",
       "    .dataframe tbody tr th {\n",
       "        vertical-align: top;\n",
       "    }\n",
       "\n",
       "    .dataframe thead th {\n",
       "        text-align: right;\n",
       "    }\n",
       "</style>\n",
       "<table border=\"1\" class=\"dataframe\">\n",
       "  <thead>\n",
       "    <tr style=\"text-align: right;\">\n",
       "      <th></th>\n",
       "      <th>tok</th>\n",
       "      <th>sentiment</th>\n",
       "    </tr>\n",
       "  </thead>\n",
       "  <tbody>\n",
       "    <tr>\n",
       "      <th>0</th>\n",
       "      <td>[summer, holiday, forgotten, musical, version,...</td>\n",
       "      <td>0</td>\n",
       "    </tr>\n",
       "    <tr>\n",
       "      <th>1</th>\n",
       "      <td>[must, say, didnt, expect, much, movie, turned...</td>\n",
       "      <td>1</td>\n",
       "    </tr>\n",
       "    <tr>\n",
       "      <th>2</th>\n",
       "      <td>[like, many, reviewer, memory, show, universal...</td>\n",
       "      <td>1</td>\n",
       "    </tr>\n",
       "    <tr>\n",
       "      <th>3</th>\n",
       "      <td>[movie, sucked, acting, sucked, script, sucked...</td>\n",
       "      <td>0</td>\n",
       "    </tr>\n",
       "    <tr>\n",
       "      <th>4</th>\n",
       "      <td>[light, hearted, comedy, enjoyed, entertainmen...</td>\n",
       "      <td>1</td>\n",
       "    </tr>\n",
       "    <tr>\n",
       "      <th>...</th>\n",
       "      <td>...</td>\n",
       "      <td>...</td>\n",
       "    </tr>\n",
       "    <tr>\n",
       "      <th>49577</th>\n",
       "      <td>[good, build, suspense, throughout, cinematogr...</td>\n",
       "      <td>0</td>\n",
       "    </tr>\n",
       "    <tr>\n",
       "      <th>49578</th>\n",
       "      <td>[said, visual, effect, stunning, theyre, breat...</td>\n",
       "      <td>0</td>\n",
       "    </tr>\n",
       "    <tr>\n",
       "      <th>49579</th>\n",
       "      <td>[waste, time, danger, watch, tempted, tear, dv...</td>\n",
       "      <td>0</td>\n",
       "    </tr>\n",
       "    <tr>\n",
       "      <th>49580</th>\n",
       "      <td>[movie, told, eye, young, teacher, catholic, s...</td>\n",
       "      <td>0</td>\n",
       "    </tr>\n",
       "    <tr>\n",
       "      <th>49581</th>\n",
       "      <td>[like, standard, sly, flick, involve, top, act...</td>\n",
       "      <td>0</td>\n",
       "    </tr>\n",
       "  </tbody>\n",
       "</table>\n",
       "<p>49582 rows × 2 columns</p>\n",
       "</div>"
      ],
      "text/plain": [
       "                                                     tok  sentiment\n",
       "0      [summer, holiday, forgotten, musical, version,...          0\n",
       "1      [must, say, didnt, expect, much, movie, turned...          1\n",
       "2      [like, many, reviewer, memory, show, universal...          1\n",
       "3      [movie, sucked, acting, sucked, script, sucked...          0\n",
       "4      [light, hearted, comedy, enjoyed, entertainmen...          1\n",
       "...                                                  ...        ...\n",
       "49577  [good, build, suspense, throughout, cinematogr...          0\n",
       "49578  [said, visual, effect, stunning, theyre, breat...          0\n",
       "49579  [waste, time, danger, watch, tempted, tear, dv...          0\n",
       "49580  [movie, told, eye, young, teacher, catholic, s...          0\n",
       "49581  [like, standard, sly, flick, involve, top, act...          0\n",
       "\n",
       "[49582 rows x 2 columns]"
      ]
     },
     "execution_count": 27,
     "metadata": {},
     "output_type": "execute_result"
    }
   ],
   "source": [
    "data\n",
    "#built my dataset"
   ]
  },
  {
   "cell_type": "code",
   "execution_count": 28,
   "id": "ceramic-clock",
   "metadata": {},
   "outputs": [],
   "source": [
    "X = data[\"tok\"]\n",
    "Y = data[\"sentiment\"]"
   ]
  },
  {
   "cell_type": "code",
   "execution_count": 29,
   "id": "demanding-lambda",
   "metadata": {},
   "outputs": [],
   "source": [
    "from sklearn.model_selection import train_test_split\n",
    "X_train, X_test, y_train, y_test = train_test_split(X, Y, test_size=0.33, random_state=0)"
   ]
  },
  {
   "cell_type": "code",
   "execution_count": 30,
   "id": "negative-madrid",
   "metadata": {},
   "outputs": [
    {
     "name": "stdout",
     "output_type": "stream",
     "text": [
      "(33219,)\n",
      "(33219,)\n",
      "(16363,)\n",
      "(16363,)\n"
     ]
    }
   ],
   "source": [
    "print(X_train.shape)\n",
    "print(y_train.shape)\n",
    "print(X_test.shape)\n",
    "print(y_test.shape)"
   ]
  },
  {
   "cell_type": "code",
   "execution_count": 31,
   "id": "paperback-stylus",
   "metadata": {},
   "outputs": [
    {
     "data": {
      "text/plain": [
       "29358    [savage, island, raw, savagery, scare, hell, t...\n",
       "36192    [evil, big, house, bad, spirit, foolishly, unl...\n",
       "35870    [tumbling, doll, flesh, tamakichi, anaru, japa...\n",
       "15397    [vertigo, costars, stewart, last, turn, romant...\n",
       "36329    [following, classic, horror, film, carrie, off...\n",
       "                               ...                        \n",
       "21243    [jack, black, kyle, gas, team, together, promo...\n",
       "45891    [one, best, film, seen, past, five, year, cast...\n",
       "42613    [kidding, godawful, watching, local, scifi, st...\n",
       "43567    [honest, rented, movie, solely, fact, part, ch...\n",
       "2732     [taken, context, time, made, found, worthwhile...\n",
       "Name: tok, Length: 33219, dtype: object"
      ]
     },
     "execution_count": 31,
     "metadata": {},
     "output_type": "execute_result"
    }
   ],
   "source": [
    "X_train"
   ]
  },
  {
   "cell_type": "code",
   "execution_count": 32,
   "id": "secret-upset",
   "metadata": {},
   "outputs": [
    {
     "data": {
      "text/plain": [
       "29358    1\n",
       "36192    0\n",
       "35870    1\n",
       "15397    1\n",
       "36329    0\n",
       "        ..\n",
       "21243    1\n",
       "45891    1\n",
       "42613    0\n",
       "43567    1\n",
       "2732     1\n",
       "Name: sentiment, Length: 33219, dtype: int64"
      ]
     },
     "execution_count": 32,
     "metadata": {},
     "output_type": "execute_result"
    }
   ],
   "source": [
    "y_train"
   ]
  },
  {
   "cell_type": "code",
   "execution_count": 33,
   "id": "fuzzy-retro",
   "metadata": {},
   "outputs": [],
   "source": [
    "import numpy as np\n",
    "from keras.preprocessing.text import Tokenizer\n",
    "\n",
    "max_feature = 20000\n",
    "tokenizer = Tokenizer(num_words = max_feature)"
   ]
  },
  {
   "cell_type": "code",
   "execution_count": 34,
   "id": "subsequent-optimum",
   "metadata": {},
   "outputs": [
    {
     "name": "stderr",
     "output_type": "stream",
     "text": [
      "C:\\Users\\vaibh\\miniconda3\\envs\\Ai\\lib\\site-packages\\ipykernel_launcher.py:2: VisibleDeprecationWarning: Creating an ndarray from ragged nested sequences (which is a list-or-tuple of lists-or-tuples-or ndarrays with different lengths or shapes) is deprecated. If you meant to do this, you must specify 'dtype=object' when creating the ndarray\n",
      "  \n",
      "C:\\Users\\vaibh\\miniconda3\\envs\\Ai\\lib\\site-packages\\ipykernel_launcher.py:4: VisibleDeprecationWarning: Creating an ndarray from ragged nested sequences (which is a list-or-tuple of lists-or-tuples-or ndarrays with different lengths or shapes) is deprecated. If you meant to do this, you must specify 'dtype=object' when creating the ndarray\n",
      "  after removing the cwd from sys.path.\n"
     ]
    }
   ],
   "source": [
    "tokenizer.fit_on_texts(X_train)\n",
    "X_train_features = np.array(tokenizer.texts_to_sequences(X_train))\n",
    "\n",
    "X_test_features = np.array(tokenizer.texts_to_sequences(X_test))"
   ]
  },
  {
   "cell_type": "code",
   "execution_count": 35,
   "id": "another-oracle",
   "metadata": {},
   "outputs": [
    {
     "data": {
      "text/plain": [
       "array([list([2879, 1730, 242, 9303, 20, 2881, 16026, 215, 326, 8345, 2762, 33, 20, 128, 57, 2452, 10, 13, 17115, 1730, 1566, 3672, 38, 3881, 8211, 761, 2912, 1152, 9, 74, 2, 1730, 366, 10, 11910, 3, 441, 6873, 101, 4475, 68, 4344, 890, 6769, 15375, 7234, 238, 14802, 4344, 469, 1062, 5569, 1383, 8577, 3246, 54, 12752, 7153, 644, 2051, 530, 1062, 158, 713, 7153, 14702, 1160, 2236, 2236, 913, 7153, 7301, 1142, 2334, 1064, 644, 203, 367, 4344, 729, 41, 1326, 776, 4344, 2157, 3176, 1900, 3477, 3503, 3786, 7153, 262, 1383, 644, 4344, 450, 407, 30, 278, 166, 7153, 5853, 4344, 1751, 1149, 4796, 14654, 68, 41, 7153, 2100, 218, 41, 626, 4344, 8, 484, 7153, 1062, 7566, 2147, 277, 167, 8, 12014, 636, 346, 15998, 518, 3152, 33, 71, 6703, 8203, 2447, 257, 4344, 7153, 181, 65, 128, 16408, 8345, 2762]),\n",
       "       list([5, 921, 493, 3870, 1091, 12481, 1059, 32, 310, 104, 178, 826, 2, 4124, 64, 30, 151, 96, 1049, 1234, 3827, 2604, 48, 36, 537, 9505, 6307, 3360, 3078, 8768, 2, 1021, 1220, 163, 708, 33, 64, 30, 151, 3, 178, 65, 1, 9, 554, 1614, 17039, 184, 168, 384, 67, 72, 67, 81, 151, 908, 88, 37, 333, 4, 716, 3870, 2480, 537, 30, 9, 826, 96, 4, 457, 493, 550, 204, 8866, 1926, 808, 513, 323, 42, 843, 65, 80, 1926, 2263, 1578, 2, 63, 1735, 3641, 2685, 1, 123, 36]),\n",
       "       list([19110, 234, 930, 1794, 447, 63, 4455, 590, 1174, 905, 5362, 1454, 335, 1418, 353, 226, 447, 103, 1152, 869, 45, 2605, 2, 5, 137, 2, 19110, 4608, 4735, 3, 1670, 2605, 2, 2060, 54, 4181, 6806, 374, 44, 1384, 511, 1146, 1178, 243, 702, 269, 997, 1080, 1063, 6309, 1869, 512, 40, 45, 54, 11454, 2055, 2312, 14399, 701, 19110, 128, 7633, 87, 2460, 7678, 3351, 3538, 40, 10851, 24, 494, 984, 1437, 1536, 729, 2745, 1582, 10225, 396, 1644, 31, 3393, 2830, 3461, 56, 752, 1513, 563, 1734, 3799, 1578, 2317, 1535, 3044, 245, 24, 123, 5072, 1535, 644, 2136, 1875, 1198, 877, 891, 4062, 883, 1, 296, 3832, 38, 1821, 5417, 3465, 768, 426, 1190, 43, 51, 658, 995, 59, 78, 11451, 926, 201, 259, 2, 991, 1150, 4610, 23, 78, 3743, 100, 182, 5264, 1338, 1383, 1198, 3868, 62, 23, 8391, 633, 4192, 2060, 21, 23, 35, 558, 4930, 3605, 2, 1176, 400, 1505, 1035, 468, 215, 3399, 1028, 377, 883, 218, 40, 10851, 1425, 3787, 1052, 1028, 207, 219, 362, 1168, 256, 388, 117, 135, 629, 3155, 75, 3538, 637, 506, 13860, 9426, 4, 35, 272, 575, 3663, 9426, 297, 19110, 51, 18040, 622, 1426, 1247, 2, 42, 685, 183, 3985, 1016, 3450, 707, 7523, 3538, 495, 12, 732, 2710, 20, 2, 1174, 203, 27, 182, 701, 3, 637, 2, 113, 48, 36, 52, 13, 8, 404, 2, 575, 3663, 19110, 74, 2, 21, 830, 3415, 3, 1842, 136, 549, 2, 103, 838, 1867, 3, 45, 200, 1701, 54, 1004, 19110, 268, 1732, 2, 6026, 1071, 3, 45, 2, 1247, 513, 3559, 1058, 12898, 2612, 1274, 2794, 3989, 252, 77, 220, 701, 2193, 447, 392, 226, 3451, 3587]),\n",
       "       ...,\n",
       "       list([343, 2682, 1, 29, 6518, 346, 31, 2057, 3203, 14, 228, 266, 528, 765, 744, 304, 11, 410, 126, 744, 458, 1252, 89, 2286, 338, 334, 1211, 16495, 10064, 1193, 5334, 960, 436, 871, 20, 26, 39, 561, 6547, 44, 35, 26, 260, 1, 440, 11219, 121, 9466, 4, 18, 2107, 11571, 1118, 64, 30, 6646, 127, 2164, 34, 500, 93, 7, 1912, 5127, 56, 1355, 83, 116, 11, 296, 34, 1, 991, 11812, 6646, 291, 19878, 323, 539, 524, 524, 524, 12, 2115, 259, 221, 4313, 553, 25, 10, 17, 25, 4, 328, 196, 880, 955, 1, 12, 49, 2573, 1946, 864, 160, 1, 19678, 12, 330, 4, 1, 696, 4, 3473]),\n",
       "       list([1362, 5091, 3293, 44, 155, 1, 184, 33, 5019, 98, 571, 1, 257, 131, 47, 2008, 69, 299, 1970, 1602, 60, 43, 12, 13, 2206, 64, 5091, 263, 969, 191, 106, 786, 287, 2, 392, 1602, 309, 4121, 1985, 402, 5108, 1970, 436, 12, 708, 228, 2548, 263, 261, 2575, 7919, 1970, 12, 708, 263, 914, 2186, 4619, 643, 4440, 1172, 5269, 17, 2007, 6616, 412, 477, 166, 142, 125, 18, 32, 71, 263, 91, 1190, 265, 5, 261, 64, 914, 10, 1885, 106, 11695]),\n",
       "       list([3, 12899, 3752, 2, 48, 36, 4488, 7019, 2377, 11061, 4478, 3, 246, 164, 3487, 335, 1258, 1814, 3653, 12408, 7019, 1710, 147, 3130, 246, 297, 92, 10998, 512, 7019, 9517, 3776, 9, 445, 1258, 6372, 35, 7019, 246, 16, 7750, 1536, 8107, 3663, 10998, 921, 141, 7019, 3181, 12, 3428, 11342, 3393, 335, 283, 246, 24, 3487, 616, 4005, 11129, 11653, 460, 16136, 2531, 117, 53, 135, 856, 661, 230, 212, 3181, 7248, 2377, 3487, 3153, 8343, 6372, 43, 36, 2331, 143, 1843, 7888, 2, 2331, 4060, 2277, 566, 4879, 2118, 252, 58, 886, 481, 5530, 1903, 4598, 2014, 7019, 16, 7019, 644, 6930, 485, 9, 1686, 1268, 7019, 5849, 465, 63, 3533, 2021, 163, 6372, 693, 2377, 357, 2435, 15, 1983, 9055, 1006, 105, 15, 1018, 7019, 644, 1005, 10348, 12, 16146, 2, 2435, 15, 141, 566, 1865, 1006, 2038, 1737, 9793, 6359, 163, 143, 63, 7019, 345, 17, 7805, 135, 7019, 644, 432, 12, 2234, 63, 23, 317, 285, 994, 1867, 2065, 248, 656, 787, 2284, 476, 27, 3982, 15, 6054, 3278, 1336, 1972, 3311, 1268, 295, 3185, 3, 45, 114, 2320, 7019, 1184, 1769, 5691, 1687, 43, 4879, 68, 1663, 219, 8533, 644, 16556, 770, 249, 5684, 10348, 781, 633, 30, 1833, 2282, 1695, 114, 1531, 1429, 4813, 770, 812, 97, 1105, 235, 848, 886, 1823, 19018, 68, 249, 496, 2, 1925, 8609, 1240, 5741, 840, 297, 21, 243, 7971, 756, 14760, 1001, 3626, 3917, 6317, 1381, 738, 842, 38, 2070, 1025, 14805, 645, 6317, 15652, 906, 141, 3487, 13438, 4546, 10488, 7019, 644, 1384, 3525, 7019, 13438, 1483, 390, 1219, 7019, 1486, 651, 63, 285, 63, 23, 30, 4536, 971, 131, 13518, 627, 1837, 1268, 18, 9, 2729, 371, 5, 3, 570, 88, 48, 1376, 8632, 291, 124, 1298, 935, 15, 30, 115, 3223, 17, 499, 804, 2227, 9233, 3, 1995, 1, 2480, 30, 201, 1995, 6372, 63, 5069, 1406, 6372, 43, 1377, 1472, 1917, 1406, 2687, 9887, 864, 221, 169, 567, 119, 905, 5362, 1481, 5362, 35, 580, 950, 1673, 420, 53, 52, 926, 333, 119, 148, 2, 1773, 1085, 15, 1366, 15, 72, 551, 6103, 4439, 281, 63, 1197, 119, 1531, 556, 623, 630, 15, 155, 77, 556, 155, 7019, 644, 1005, 1769, 887, 2435, 68, 2610, 75, 722, 2817, 17373, 93, 5547, 442, 2515, 1366, 15, 3032, 350, 420, 1802, 15, 737, 63, 2978, 1971, 12549, 374, 2, 2, 6468, 888, 536, 1377, 5530, 1267, 4488, 7454, 72, 3465, 670, 2111, 2, 63, 8005, 815, 3917, 297, 15, 1514, 2074, 10348, 345, 7741, 7019, 345, 2185, 14354, 115, 1065, 5083, 707, 8173, 247, 15, 1366, 119, 4059, 81, 295, 476, 10348, 7019, 124, 4560, 922, 5526, 307, 119, 513, 9793, 163, 430, 3, 345, 99, 3439, 1550, 1338, 163, 625, 232, 1814, 3, 345, 691, 6, 1164, 19, 1357, 2038, 168, 2, 2859, 901, 332, 405, 10348, 2, 4985, 1857])],\n",
       "      dtype=object)"
      ]
     },
     "execution_count": 35,
     "metadata": {},
     "output_type": "execute_result"
    }
   ],
   "source": [
    "X_test_features"
   ]
  },
  {
   "cell_type": "markdown",
   "id": "front-spell",
   "metadata": {},
   "source": [
    "# Text Sequencing"
   ]
  },
  {
   "cell_type": "code",
   "execution_count": 37,
   "id": "transparent-child",
   "metadata": {},
   "outputs": [],
   "source": [
    "#padding\n",
    "from keras.preprocessing.sequence import pad_sequences"
   ]
  },
  {
   "cell_type": "code",
   "execution_count": 38,
   "id": "maritime-baltimore",
   "metadata": {},
   "outputs": [],
   "source": [
    "X_train_features = pad_sequences(X_train_features,padding=\"post\",truncating=\"post\", maxlen = 50 )\n",
    "X_test_features = pad_sequences(X_test_features,padding=\"post\",truncating=\"post\", maxlen= 50)"
   ]
  },
  {
   "cell_type": "code",
   "execution_count": 39,
   "id": "awful-annual",
   "metadata": {},
   "outputs": [
    {
     "data": {
      "text/plain": [
       "array([ 2774,   733,  2624, 17908,  1344,   437,  1571,   202,  6413,\n",
       "        2774,   121,   278,   383, 15343,  3232,  5466,  2774,    58,\n",
       "         999,   437,   433,    77,    10,    64,   100,     2,   268,\n",
       "         284,   100,   151,    21,  1256,   304,   575,    52,   190,\n",
       "         350,  1925,  1632,     2,   506,  2273,  1369,  3155,   449,\n",
       "        3755,   352,  5944,  1058,     8])"
      ]
     },
     "execution_count": 39,
     "metadata": {},
     "output_type": "execute_result"
    }
   ],
   "source": [
    "X_train_features[0]"
   ]
  },
  {
   "cell_type": "code",
   "execution_count": 40,
   "id": "unlikely-redhead",
   "metadata": {},
   "outputs": [
    {
     "data": {
      "text/plain": [
       "(33219, 50)"
      ]
     },
     "execution_count": 40,
     "metadata": {},
     "output_type": "execute_result"
    }
   ],
   "source": [
    "X_train_features.shape"
   ]
  },
  {
   "cell_type": "code",
   "execution_count": 41,
   "id": "contemporary-april",
   "metadata": {},
   "outputs": [
    {
     "data": {
      "text/plain": [
       "array([ 2879,  1730,   242,  9303,    20,  2881, 16026,   215,   326,\n",
       "        8345,  2762,    33,    20,   128,    57,  2452,    10,    13,\n",
       "       17115,  1730,  1566,  3672,    38,  3881,  8211,   761,  2912,\n",
       "        1152,     9,    74,     2,  1730,   366,    10, 11910,     3,\n",
       "         441,  6873,   101,  4475,    68,  4344,   890,  6769, 15375,\n",
       "        7234,   238, 14802,  4344,   469])"
      ]
     },
     "execution_count": 41,
     "metadata": {},
     "output_type": "execute_result"
    }
   ],
   "source": [
    "X_test_features[0]"
   ]
  },
  {
   "cell_type": "markdown",
   "id": "strategic-stream",
   "metadata": {},
   "source": [
    "# Label encoding"
   ]
  },
  {
   "cell_type": "code",
   "execution_count": 42,
   "id": "sought-vampire",
   "metadata": {},
   "outputs": [],
   "source": [
    " from sklearn.preprocessing import LabelEncoder\n",
    "le = LabelEncoder()\n",
    "train_y = le.fit_transform(y_train.values)\n",
    "test_y = le.transform(y_test.values)"
   ]
  },
  {
   "cell_type": "code",
   "execution_count": 43,
   "id": "handmade-heavy",
   "metadata": {},
   "outputs": [
    {
     "data": {
      "text/plain": [
       "array([1, 0, 1, ..., 0, 1, 1], dtype=int64)"
      ]
     },
     "execution_count": 43,
     "metadata": {},
     "output_type": "execute_result"
    }
   ],
   "source": [
    "train_y"
   ]
  },
  {
   "cell_type": "code",
   "execution_count": 44,
   "id": "earlier-knock",
   "metadata": {},
   "outputs": [
    {
     "data": {
      "text/plain": [
       "array([1, 1, 1, ..., 0, 0, 0], dtype=int64)"
      ]
     },
     "execution_count": 44,
     "metadata": {},
     "output_type": "execute_result"
    }
   ],
   "source": [
    "test_y"
   ]
  },
  {
   "cell_type": "code",
   "execution_count": null,
   "id": "royal-playing",
   "metadata": {},
   "outputs": [],
   "source": []
  },
  {
   "cell_type": "code",
   "execution_count": 45,
   "id": "piano-decrease",
   "metadata": {},
   "outputs": [],
   "source": [
    "idx = tokenizer.word_index\n",
    "inverse_map = dict(zip(idx.values(), idx.keys()))\n",
    "\n",
    "def return_to_sentence(tokens):\n",
    "    words = [inverse_map[token] for token in tokens if token!=0]\n",
    "    text = ' '.join(words)\n",
    "    return text"
   ]
  },
  {
   "cell_type": "code",
   "execution_count": 47,
   "id": "collaborative-remedy",
   "metadata": {},
   "outputs": [
    {
     "name": "stdout",
     "output_type": "stream",
     "text": [
      "savage island raw savagery scare hell trust boy estranged savage family run city slicker tourist pa savage want revenge hell stop nothing get real horror film truly wonderful horror moment also negative review clearly come someone lack proper knowledge film filmmaker chose lighting camerawork order reflect dark murky mood story\n"
     ]
    }
   ],
   "source": [
    "print(return_to_sentence(X_train_features[0]))"
   ]
  },
  {
   "cell_type": "code",
   "execution_count": 48,
   "id": "blond-dublin",
   "metadata": {},
   "outputs": [],
   "source": [
    "from tensorflow.python.keras.models import Sequential\n",
    "from tensorflow.python.keras.layers import Dense, Embedding,LSTM\n",
    "from tensorflow.python.keras.preprocessing.text import Tokenizer\n",
    "from keras.optimizers import Adam\n",
    "from keras.layers import Dropout"
   ]
  },
  {
   "cell_type": "code",
   "execution_count": 49,
   "id": "confused-charge",
   "metadata": {},
   "outputs": [],
   "source": [
    "model = Sequential()\n",
    "\n",
    "embedding_size = 50\n",
    "\n",
    "model.add(Embedding(input_dim=20000,output_dim=embedding_size,input_length=50,name='embedding_layer'))\n",
    "\n",
    "model.add(LSTM(units=16, return_sequences=True))\n",
    "model.add(Dropout(0.1))\n",
    "\n",
    "model.add(LSTM(units=8, return_sequences=True))\n",
    "model.add(Dropout(0.1))\n",
    "\n",
    "model.add(LSTM(units=4))\n",
    "model.add(Dropout(0.1))\n",
    "\n",
    "model.add(Dense(1, activation='sigmoid'))\n",
    "\n",
    "optimizer = Adam(lr=1e-3)\n",
    "\n",
    "model.compile(loss='binary_crossentropy',optimizer=optimizer,metrics=['accuracy'])"
   ]
  },
  {
   "cell_type": "code",
   "execution_count": 50,
   "id": "apart-cambodia",
   "metadata": {},
   "outputs": [
    {
     "name": "stdout",
     "output_type": "stream",
     "text": [
      "Model: \"sequential\"\n",
      "_________________________________________________________________\n",
      "Layer (type)                 Output Shape              Param #   \n",
      "=================================================================\n",
      "embedding_layer (Embedding)  (None, 50, 50)            1000000   \n",
      "_________________________________________________________________\n",
      "lstm (LSTM)                  (None, 50, 16)            4288      \n",
      "_________________________________________________________________\n",
      "dropout (Dropout)            (None, 50, 16)            0         \n",
      "_________________________________________________________________\n",
      "lstm_1 (LSTM)                (None, 50, 8)             800       \n",
      "_________________________________________________________________\n",
      "dropout_1 (Dropout)          (None, 50, 8)             0         \n",
      "_________________________________________________________________\n",
      "lstm_2 (LSTM)                (None, 4)                 208       \n",
      "_________________________________________________________________\n",
      "dropout_2 (Dropout)          (None, 4)                 0         \n",
      "_________________________________________________________________\n",
      "dense (Dense)                (None, 1)                 5         \n",
      "=================================================================\n",
      "Total params: 1,005,301\n",
      "Trainable params: 1,005,301\n",
      "Non-trainable params: 0\n",
      "_________________________________________________________________\n"
     ]
    }
   ],
   "source": [
    "model.summary()"
   ]
  },
  {
   "cell_type": "code",
   "execution_count": 53,
   "id": "likely-metadata",
   "metadata": {},
   "outputs": [
    {
     "name": "stdout",
     "output_type": "stream",
     "text": [
      "Epoch 1/5\n",
      "24/24 [==============================] - 84s 3s/step - loss: 0.6913 - accuracy: 0.5426 - val_loss: 0.6748 - val_accuracy: 0.6856\n",
      "Epoch 2/5\n",
      "24/24 [==============================] - 66s 3s/step - loss: 0.6382 - accuracy: 0.7153 - val_loss: 0.4884 - val_accuracy: 0.7987\n",
      "Epoch 3/5\n",
      "24/24 [==============================] - 65s 3s/step - loss: 0.4351 - accuracy: 0.8413 - val_loss: 0.4396 - val_accuracy: 0.8198\n",
      "Epoch 4/5\n",
      "24/24 [==============================] - 63s 3s/step - loss: 0.3396 - accuracy: 0.9043 - val_loss: 0.4354 - val_accuracy: 0.8210\n",
      "Epoch 5/5\n",
      "24/24 [==============================] - 62s 3s/step - loss: 0.2765 - accuracy: 0.9309 - val_loss: 0.4414 - val_accuracy: 0.8200\n"
     ]
    }
   ],
   "source": [
    "history = model.fit(X_train_features, y_train, validation_split=0.3, epochs=5, batch_size=1000, shuffle=True, verbose = 1)"
   ]
  },
  {
   "cell_type": "code",
   "execution_count": 55,
   "id": "exempt-generation",
   "metadata": {},
   "outputs": [
    {
     "name": "stdout",
     "output_type": "stream",
     "text": [
      "512/512 [==============================] - 76s 148ms/step - loss: 0.4501 - accuracy: 0.8159\n"
     ]
    }
   ],
   "source": [
    "result = model.evaluate(X_test_features, y_test)"
   ]
  },
  {
   "cell_type": "code",
   "execution_count": 56,
   "id": "cutting-warehouse",
   "metadata": {},
   "outputs": [
    {
     "data": {
      "image/png": "[encoded data removed]",
      "text/plain": [
       "<Figure size 432x288 with 1 Axes>"
      ]
     },
     "metadata": {
      "needs_background": "light"
     },
     "output_type": "display_data"
    }
   ],
   "source": [
    "plt.figure()\n",
    "plt.plot(history.history[\"accuracy\"], label = \"Train\")\n",
    "plt.plot(history.history[\"val_accuracy\"], label = \"Test\")\n",
    "plt.title(\"Accuracy\")\n",
    "plt.ylabel(\"Acc\")\n",
    "plt.xlabel(\"epochs\")\n",
    "plt.legend()\n",
    "plt.show()"
   ]
  },
  {
   "cell_type": "code",
   "execution_count": 57,
   "id": "occupied-relative",
   "metadata": {},
   "outputs": [
    {
     "data": {
      "image/png": "[encoded data removed]",
      "text/plain": [
       "<Figure size 432x288 with 1 Axes>"
      ]
     },
     "metadata": {
      "needs_background": "light"
     },
     "output_type": "display_data"
    }
   ],
   "source": [
    "plt.figure()\n",
    "plt.plot(history.history[\"loss\"], label = \"Train\")\n",
    "plt.plot(history.history[\"val_loss\"], label = \"Test\")\n",
    "plt.title(\"Loss\")\n",
    "plt.ylabel(\"Acc\")\n",
    "plt.xlabel(\"epochs\")\n",
    "plt.legend()\n",
    "plt.show()"
   ]
  },
  {
   "cell_type": "code",
   "execution_count": null,
   "id": "detected-copying",
   "metadata": {},
   "outputs": [],
   "source": []
  }
 ],
 "metadata": {
  "kernelspec": {
   "display_name": "Python 3",
   "language": "python",
   "name": "python3"
  },
  "language_info": {
   "codemirror_mode": {
    "name": "ipython",
    "version": 3
   },
   "file_extension": ".py",
   "mimetype": "text/x-python",
   "name": "python",
   "nbconvert_exporter": "python",
   "pygments_lexer": "ipython3",
   "version": "3.7.9"
  }
 },
 "nbformat": 4,
 "nbformat_minor": 5
}
